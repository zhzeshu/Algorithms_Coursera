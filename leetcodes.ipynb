{
 "cells": [
  {
   "cell_type": "code",
   "execution_count": 2,
   "metadata": {
    "collapsed": true
   },
   "outputs": [
    {
     "data": {
      "text/plain": "6"
     },
     "execution_count": 2,
     "metadata": {},
     "output_type": "execute_result"
    }
   ],
   "source": [
    "# DP1\n",
    "\n",
    "\n",
    "def maxSubArray(nums):\n",
    "    total_max, recent_max = nums[0], nums[0]\n",
    "    for num in nums[1:]:\n",
    "        recent_max = max(recent_max + num, num)\n",
    "        total_max = max(recent_max, total_max)\n",
    "\n",
    "    return total_max\n",
    "nums = [-2,1,-3,4,-1,2,1,-5,4]\n",
    "maxSubArray(nums)\n",
    "\n"
   ]
  },
  {
   "cell_type": "code",
   "execution_count": null,
   "outputs": [],
   "source": [
    "def coinChange(coins, amount):\n",
    "    if amount == 0:\n",
    "        return 0\n",
    "    F = [0]*(amount + 1)\n",
    "    for i in range(1, amount + 1):\n",
    "        if i in coins:\n",
    "            F[i] = 1\n",
    "            continue\n",
    "        min_coin = float(\"inf\")\n",
    "        for coin in coins:\n",
    "\n",
    "            if i > coin:\n",
    "                min_coin = min(F[i-coin], min_coin)\n",
    "        F[i] = min_coin + 1\n",
    "    if F[-1] == float(\"inf\"):\n",
    "        return -1\n",
    "    else:\n",
    "        return F[-1]\n"
   ],
   "metadata": {
    "collapsed": false,
    "pycharm": {
     "name": "#%%\n"
    }
   }
  },
  {
   "cell_type": "markdown",
   "source": [
    "### DP3 coin change\n",
    "You are given coins of different denominations and a total amount of money amount. Write a function to compute the fewest number of coins that you need to make up that amount. If that amount of money cannot be made up by any combination of the coins, return -1.\n",
    "\n",
    "You may assume that you have an infinite number of each kind of coin."
   ],
   "metadata": {
    "collapsed": false
   }
  },
  {
   "cell_type": "code",
   "execution_count": 3,
   "outputs": [
    {
     "data": {
      "text/plain": "3"
     },
     "execution_count": 3,
     "metadata": {},
     "output_type": "execute_result"
    }
   ],
   "source": [
    "def coinCHange(coins, amount):\n",
    "    F = [float('inf')]*(amount + 1)\n",
    "    F[0] = 0\n",
    "    for coin in coins:\n",
    "        for i in range(coin, amount + 1):\n",
    "            F[i] = min(F[i], F[i-coin] + 1)\n",
    "\n",
    "    if F[amount] != float('inf'):\n",
    "        return F[amount]\n",
    "    else:\n",
    "        return -1\n",
    "\n",
    "coinCHange([1,2,5], 11)"
   ],
   "metadata": {
    "collapsed": false,
    "pycharm": {
     "name": "#%%\n"
    }
   }
  },
  {
   "cell_type": "markdown",
   "source": [
    "Given n balloons, indexed from 0 to n-1. Each balloon is painted with a number on it represented by array nums. You are asked to burst all the balloons. If the you burst balloon i you will get nums[left] * nums[i] * nums[right] coins. Here left and right are adjacent indices of i. After the burst, the left and right then becomes adjacent.\n",
    "\n",
    "Find the maximum coins you can collect by bursting the balloons wisely.\n",
    "\n",
    "Note:\n",
    "\n",
    "    You may imagine nums[-1] = nums[n] = 1. They are not real therefore you can not burst them.\n",
    "    0 ≤ n ≤ 500, 0 ≤ nums[i] ≤ 100\n",
    "\n"
   ],
   "metadata": {
    "collapsed": false
   }
  },
  {
   "cell_type": "code",
   "execution_count": 12,
   "outputs": [
    {
     "name": "stdout",
     "output_type": "stream",
     "text": [
      "[[0, 0, 3, 0, 0, 0], [0, 0, 0, 0, 0, 0], [0, 0, 0, 0, 0, 0], [0, 0, 0, 0, 0, 0], [0, 0, 0, 0, 0, 0], [0, 0, 0, 0, 0, 0]]\n",
      "[[0, 0, 3, 0, 0, 0], [0, 0, 0, 15, 0, 0], [0, 0, 0, 0, 0, 0], [0, 0, 0, 0, 0, 0], [0, 0, 0, 0, 0, 0], [0, 0, 0, 0, 0, 0]]\n",
      "[[0, 0, 3, 0, 0, 0], [0, 0, 0, 15, 0, 0], [0, 0, 0, 0, 40, 0], [0, 0, 0, 0, 0, 0], [0, 0, 0, 0, 0, 0], [0, 0, 0, 0, 0, 0]]\n",
      "[[0, 0, 3, 0, 0, 0], [0, 0, 0, 15, 0, 0], [0, 0, 0, 0, 40, 0], [0, 0, 0, 0, 0, 40], [0, 0, 0, 0, 0, 0], [0, 0, 0, 0, 0, 0]]\n",
      "[[0, 0, 3, 30, 0, 0], [0, 0, 0, 15, 0, 0], [0, 0, 0, 0, 40, 0], [0, 0, 0, 0, 0, 40], [0, 0, 0, 0, 0, 0], [0, 0, 0, 0, 0, 0]]\n",
      "[[0, 0, 3, 30, 0, 0], [0, 0, 0, 15, 0, 0], [0, 0, 0, 0, 40, 0], [0, 0, 0, 0, 0, 40], [0, 0, 0, 0, 0, 0], [0, 0, 0, 0, 0, 0]]\n",
      "[[0, 0, 3, 30, 0, 0], [0, 0, 0, 15, 64, 0], [0, 0, 0, 0, 40, 0], [0, 0, 0, 0, 0, 40], [0, 0, 0, 0, 0, 0], [0, 0, 0, 0, 0, 0]]\n",
      "[[0, 0, 3, 30, 0, 0], [0, 0, 0, 15, 135, 0], [0, 0, 0, 0, 40, 0], [0, 0, 0, 0, 0, 40], [0, 0, 0, 0, 0, 0], [0, 0, 0, 0, 0, 0]]\n",
      "[[0, 0, 3, 30, 0, 0], [0, 0, 0, 15, 135, 0], [0, 0, 0, 0, 40, 45], [0, 0, 0, 0, 0, 40], [0, 0, 0, 0, 0, 0], [0, 0, 0, 0, 0, 0]]\n",
      "[[0, 0, 3, 30, 0, 0], [0, 0, 0, 15, 135, 0], [0, 0, 0, 0, 40, 48], [0, 0, 0, 0, 0, 40], [0, 0, 0, 0, 0, 0], [0, 0, 0, 0, 0, 0]]\n",
      "[[0, 0, 3, 30, 159, 0], [0, 0, 0, 15, 135, 0], [0, 0, 0, 0, 40, 48], [0, 0, 0, 0, 0, 40], [0, 0, 0, 0, 0, 0], [0, 0, 0, 0, 0, 0]]\n",
      "[[0, 0, 3, 30, 159, 0], [0, 0, 0, 15, 135, 0], [0, 0, 0, 0, 40, 48], [0, 0, 0, 0, 0, 40], [0, 0, 0, 0, 0, 0], [0, 0, 0, 0, 0, 0]]\n",
      "[[0, 0, 3, 30, 159, 0], [0, 0, 0, 15, 135, 0], [0, 0, 0, 0, 40, 48], [0, 0, 0, 0, 0, 40], [0, 0, 0, 0, 0, 0], [0, 0, 0, 0, 0, 0]]\n",
      "[[0, 0, 3, 30, 159, 0], [0, 0, 0, 15, 135, 51], [0, 0, 0, 0, 40, 48], [0, 0, 0, 0, 0, 40], [0, 0, 0, 0, 0, 0], [0, 0, 0, 0, 0, 0]]\n",
      "[[0, 0, 3, 30, 159, 0], [0, 0, 0, 15, 135, 70], [0, 0, 0, 0, 40, 48], [0, 0, 0, 0, 0, 40], [0, 0, 0, 0, 0, 0], [0, 0, 0, 0, 0, 0]]\n",
      "[[0, 0, 3, 30, 159, 0], [0, 0, 0, 15, 135, 159], [0, 0, 0, 0, 40, 48], [0, 0, 0, 0, 0, 40], [0, 0, 0, 0, 0, 0], [0, 0, 0, 0, 0, 0]]\n",
      "[[0, 0, 3, 30, 159, 162], [0, 0, 0, 15, 135, 159], [0, 0, 0, 0, 40, 48], [0, 0, 0, 0, 0, 40], [0, 0, 0, 0, 0, 0], [0, 0, 0, 0, 0, 0]]\n",
      "[[0, 0, 3, 30, 159, 162], [0, 0, 0, 15, 135, 159], [0, 0, 0, 0, 40, 48], [0, 0, 0, 0, 0, 40], [0, 0, 0, 0, 0, 0], [0, 0, 0, 0, 0, 0]]\n",
      "[[0, 0, 3, 30, 159, 162], [0, 0, 0, 15, 135, 159], [0, 0, 0, 0, 40, 48], [0, 0, 0, 0, 0, 40], [0, 0, 0, 0, 0, 0], [0, 0, 0, 0, 0, 0]]\n",
      "[[0, 0, 3, 30, 159, 167], [0, 0, 0, 15, 135, 159], [0, 0, 0, 0, 40, 48], [0, 0, 0, 0, 0, 40], [0, 0, 0, 0, 0, 0], [0, 0, 0, 0, 0, 0]]\n",
      "[[0, 0, 3, 30, 159, 167], [0, 0, 0, 15, 135, 159], [0, 0, 0, 0, 40, 48], [0, 0, 0, 0, 0, 40], [0, 0, 0, 0, 0, 0], [0, 0, 0, 0, 0, 0]]\n"
     ]
    },
    {
     "data": {
      "text/plain": "167"
     },
     "execution_count": 12,
     "metadata": {},
     "output_type": "execute_result"
    }
   ],
   "source": [
    "# dp[i][j] means the maximum coins we get after we burst all the balloons between i and j in the original array.\n",
    "# between i and j means not include i and j, which means j-i >= 2 (let gap = j-i >=2)\n",
    "# DP: dp[i][j] = max(nums[i]*nums[k]*nums[j] + dp[i][k] + dp[k][j])(k in (i,j)]   Note: i<k<j\n",
    "def maxCoins(nums):\n",
    "    nums = [1] + nums + [1]\n",
    "    dp = [[0 for i in range(len(nums))] for j in range(len(nums))]\n",
    "\n",
    "    for win in range(2, len(nums)):\n",
    "        for i in range(0, len(nums)-win):\n",
    "            j = i + win\n",
    "            for k in range(i+1, j):\n",
    "                dp[i][j] = max(dp[i][j], nums[i]*nums[k]*nums[j] + dp[i][k] + dp[k][j])\n",
    "                print(dp)\n",
    "    return dp[0][-1]\n",
    "\n",
    "nums = [3, 1, 5, 8]\n",
    "maxCoins(nums)"
   ],
   "metadata": {
    "collapsed": false,
    "pycharm": {
     "name": "#%%\n"
    }
   }
  },
  {
   "cell_type": "code",
   "execution_count": 10,
   "outputs": [
    {
     "name": "stdout",
     "output_type": "stream",
     "text": [
      "[1, 0]\n",
      "[1, 0]\n"
     ]
    },
    {
     "data": {
      "text/plain": "0"
     },
     "execution_count": 10,
     "metadata": {},
     "output_type": "execute_result"
    }
   ],
   "source": [
    "def numDecodings(s):\n",
    "        # if not s:\n",
    "        #     return 0\n",
    "    dp = [0 for _ in range(len(s) + 1)]\n",
    "    dp[0] = 1\n",
    "    dp[1] = 1 if s[0] != '0' else 0\n",
    "    print(dp)\n",
    "\n",
    "    for i in range(2, len(s)+1):\n",
    "        if s[i-1] != '0':\n",
    "            dp[i] += dp[i-1]\n",
    "        num = int(s[i-2:i])\n",
    "        print(num)\n",
    "        if 10 <= num <= 26:\n",
    "            dp[i] += dp[i-2]\n",
    "    print(dp)\n",
    "\n",
    "    return dp[-1]\n",
    "\n",
    "numDecodings('0')"
   ],
   "metadata": {
    "collapsed": false,
    "pycharm": {
     "name": "#%%\n"
    }
   }
  },
  {
   "cell_type": "code",
   "execution_count": 35,
   "outputs": [
    {
     "data": {
      "text/plain": "4"
     },
     "execution_count": 35,
     "metadata": {},
     "output_type": "execute_result"
    }
   ],
   "source": [
    "def subarraySum(nums, k):\n",
    "    cont = 0\n",
    "    tot_sum = 0\n",
    "    dit = {}\n",
    "    dit[0] = 1\n",
    "    for i in range(len(nums)):\n",
    "        tot_sum += nums[i]\n",
    "        if tot_sum-k in dit:\n",
    "            cont += dit[tot_sum-k]\n",
    "        if tot_sum in dit:\n",
    "            dit[tot_sum] = dit[tot_sum] + 1\n",
    "        else:\n",
    "            dit[tot_sum] = 1\n",
    "    return cont\n",
    "\n",
    "subarraySum([3, 4, 7, 2, -3, 1, 4, 2], 7)"
   ],
   "metadata": {
    "collapsed": false,
    "pycharm": {
     "name": "#%%\n"
    }
   }
  },
  {
   "cell_type": "code",
   "execution_count": 43,
   "outputs": [
    {
     "data": {
      "text/plain": "[[0, 0, 0, 0], [0, 0, 1, 1], [0, 1, 3, 4], [0, 1, 4, 5]]"
     },
     "execution_count": 43,
     "metadata": {},
     "output_type": "execute_result"
    }
   ],
   "source": [
    "matrix = [[0, 1, 0], [1, 1, 1], [0 ,1, 0]]\n",
    "ps = [[0 for _ in range(4)] for _ in range(4)]\n",
    "for i in range(1, 4):\n",
    "    for j in range(1, 4):\n",
    "        ps[i][j] = ps[i-1][j] + ps[i][j-1] - ps[i-1][j-1] + matrix[i-1][j-1]\n",
    "ps\n"
   ],
   "metadata": {
    "collapsed": false,
    "pycharm": {
     "name": "#%%\n"
    }
   }
  },
  {
   "cell_type": "code",
   "execution_count": 45,
   "outputs": [
    {
     "data": {
      "text/plain": "[[0, 0, 0, 0], [0, 0, 1, 1], [0, 1, 3, 4], [0, 1, 4, 5]]"
     },
     "execution_count": 45,
     "metadata": {},
     "output_type": "execute_result"
    }
   ],
   "source": [
    "from collections import defaultdict\n",
    "def numsubsum(matrix, k):\n",
    "    r, c = len(matrix), len(matrix[0])\n",
    "    ps = [[0 for _ in range(c + 1)] for _ in range(r + 1)]\n",
    "    for i in range(1, r + 1):\n",
    "        for j in range(1, c + 1):\n",
    "            ps[i][j] = ps[i-1][j] + ps[i][j-1] - ps[i-1][j-1] + matrix[i-1][j-1]\n",
    "\n",
    "    cont = 0\n",
    "    for r1 in range(1, r+1):\n",
    "        for r2 in range(r1, r+1):\n",
    "            h = defaultdict(int)\n",
    "            h[0] = 1\n",
    "            for col in range(1, c+1):\n",
    "                curr_sum = ps[r2][col] - ps[r1-1][col]\n",
    "                cont += h[curr_sum - k]\n",
    "                h[curr_sum] += 1\n",
    "    return cont\n",
    "\n",
    "numsubsum([[0, 1, 0], [1, 1, 1], [0, 1, 0]],3)\n",
    "\n",
    "\n"
   ],
   "metadata": {
    "collapsed": false,
    "pycharm": {
     "name": "#%%\n"
    }
   }
  },
  {
   "cell_type": "code",
   "execution_count": 50,
   "outputs": [
    {
     "name": "stdout",
     "output_type": "stream",
     "text": [
      "a\n",
      "d\n",
      "e\n",
      "f\n",
      "b\n",
      "d\n",
      "e\n",
      "f\n",
      "c\n",
      "d\n",
      "e\n",
      "f\n"
     ]
    },
    {
     "data": {
      "text/plain": "['ad', 'ae', 'af', 'bd', 'be', 'bf', 'cd', 'ce', 'cf']"
     },
     "execution_count": 50,
     "metadata": {},
     "output_type": "execute_result"
    }
   ],
   "source": [
    "def letterCombinations(digits):\n",
    "    phone = {'2':['a', 'b', 'c'],\n",
    "             '3':['d', 'e', 'f'],\n",
    "             '4':['g', 'h', 'i'],\n",
    "             '5':['j','k','l'],\n",
    "             '6':['m','n','o'],\n",
    "             '7':['p','q','r','s'],\n",
    "             '8':['t','u','v'],\n",
    "             '9':['w','x','y','z']}\n",
    "    def bt(st, next_dg):\n",
    "        if len(next_dg) == 0:\n",
    "            # print(st)\n",
    "            output.append(st)\n",
    "        else:\n",
    "            for letter in phone[next_dg[0]]:\n",
    "                # print(letter)\n",
    "                bt(st+letter, next_dg[1:])\n",
    "\n",
    "    output = []\n",
    "    if digits:\n",
    "        bt('', digits)\n",
    "    return output\n",
    "\n",
    "\n",
    "letterCombinations('23')"
   ],
   "metadata": {
    "collapsed": false,
    "pycharm": {
     "name": "#%% backtrack\n"
    }
   }
  },
  {
   "cell_type": "code",
   "execution_count": 68,
   "outputs": [
    {
     "data": {
      "text/plain": "([[1, 2, 3], [1, 3, 2], [2, 1, 3], [2, 3, 1], [3, 1, 2], [3, 2, 1]], [[1]])"
     },
     "execution_count": 68,
     "metadata": {},
     "output_type": "execute_result"
    }
   ],
   "source": [
    "def permute(nums):\n",
    "\n",
    "    def bt(output, visited, subset, nums):\n",
    "        if len(subset) == len(nums):\n",
    "            output.append(subset)\n",
    "        else:\n",
    "            for i in range(len(nums)):\n",
    "                if i not in visited:\n",
    "                    visited.add(i)\n",
    "                    bt(output, visited, subset+[nums[i]], nums)\n",
    "                    visited.remove(i)\n",
    "\n",
    "    output = []\n",
    "    visited = set()\n",
    "    bt(output, visited, [], nums)\n",
    "    return output\n",
    "permute([1,2,3]), permute([1])"
   ],
   "metadata": {
    "collapsed": false,
    "pycharm": {
     "name": "#%%\n"
    }
   }
  },
  {
   "cell_type": "code",
   "execution_count": 105,
   "outputs": [
    {
     "data": {
      "text/plain": "False"
     },
     "execution_count": 105,
     "metadata": {},
     "output_type": "execute_result"
    }
   ],
   "source": [
    "from collections import deque\n",
    "def isValid(s):\n",
    "    dq = deque()\n",
    "    pre = ''\n",
    "    for ele in s:\n",
    "        pre = dq[-1] if len(dq) > 0 else ''\n",
    "        # print(ele)\n",
    "        if (pre == '(' and ele ==')') or (pre=='[' and ele == ']') or (pre=='{' and ele =='}' ):\n",
    "            dq.pop()\n",
    "        else:\n",
    "            dq.append(ele)\n",
    "    return len(dq) == 0\n",
    "\n",
    "# isValid('()')\n",
    "\n",
    "def isValid2(s):\n",
    "    score1, score2, score3 = 0, 0, 0\n",
    "    for element in s:\n",
    "        if element == '(':\n",
    "            score1 += 1\n",
    "        elif element == ')':\n",
    "            score1 -= 1\n",
    "        elif element == '[':\n",
    "            score2 += 1\n",
    "        elif element  == ']':\n",
    "            score2 -= 1\n",
    "        elif element == '{':\n",
    "            score3 += 1\n",
    "        elif element == '}':\n",
    "            score3 -= 1\n",
    "        if score1 < 0 or score2 < 0 or score3 < 0:\n",
    "            return False\n",
    "    return score1 == 0 and score2 == 0 and score3 == 0\n",
    "\n",
    "isValid2(')({}[]')\n",
    "\n"
   ],
   "metadata": {
    "collapsed": false,
    "pycharm": {
     "name": "#%%\n"
    }
   }
  },
  {
   "cell_type": "code",
   "execution_count": 120,
   "outputs": [
    {
     "data": {
      "text/plain": "['((()))', '(()())', '(())()', '()(())', '()()()']"
     },
     "execution_count": 120,
     "metadata": {},
     "output_type": "execute_result"
    }
   ],
   "source": [
    "# Then, we will check if each one is valid.\n",
    "\n",
    "def generateParentheisis(n):\n",
    "    def generate(A_list = []):\n",
    "        if len(A_list) == 2*n:\n",
    "            if valid(A_list):\n",
    "                ans.append(\"\".join(A_list))\n",
    "        else:\n",
    "            A_list.append('(')\n",
    "            generate(A_list)\n",
    "            A_list.pop()\n",
    "\n",
    "            A_list.append(')')\n",
    "            generate(A_list)\n",
    "            A_list.pop()\n",
    "\n",
    "    def valid(A_list):\n",
    "        score = 0\n",
    "        for str in A_list:\n",
    "            if str == '(':\n",
    "                score += 1\n",
    "            elif str == ')':\n",
    "                score -= 1\n",
    "            if score < 0:\n",
    "                return False\n",
    "        return score == 0\n",
    "\n",
    "    ans = []\n",
    "    generate()\n",
    "    return ans\n",
    "\n",
    "generateParentheisis(3)"
   ],
   "metadata": {
    "collapsed": false,
    "pycharm": {
     "name": "#%% We can generate all 22n2^{2n}22n sequences of '(' and ')' characters.\n"
    }
   }
  },
  {
   "cell_type": "code",
   "execution_count": 112,
   "outputs": [
    {
     "data": {
      "text/plain": "['()']"
     },
     "execution_count": 112,
     "metadata": {},
     "output_type": "execute_result"
    }
   ],
   "source": [
    "def generateParenthesis(n):\n",
    "    ans = []\n",
    "    def backtrack(S = '', left = 0, right = 0):\n",
    "        if len(S) == 2*n:\n",
    "            ans.append(S)\n",
    "\n",
    "        if left < n:\n",
    "            backtrack(S+'(', left+1, right)\n",
    "        if right < left:\n",
    "            backtrack(S+')', left, right+1)\n",
    "\n",
    "    backtrack()\n",
    "    return ans\n",
    "\n",
    "generateParenthesis(1)"
   ],
   "metadata": {
    "collapsed": false,
    "pycharm": {
     "name": "#%%\n"
    }
   }
  },
  {
   "cell_type": "code",
   "execution_count": 122,
   "outputs": [
    {
     "data": {
      "text/plain": "[[], [1], [2], [3], [1, 2], [1, 3], [2, 3], [1, 2, 3]]"
     },
     "execution_count": 122,
     "metadata": {},
     "output_type": "execute_result"
    }
   ],
   "source": [
    "def subsets(nums):\n",
    "    def backtrack(left=0, curr=[]):\n",
    "        if len(curr) == k:\n",
    "            ans.append(curr[:])\n",
    "        for i in range(left, len(nums)):\n",
    "            curr.append(nums[i])\n",
    "            backtrack(i+1, curr)\n",
    "            curr.pop()\n",
    "\n",
    "\n",
    "    ans = []\n",
    "    for k in range(len(nums)+1):\n",
    "        backtrack()\n",
    "    return ans\n",
    "\n",
    "subsets([1, 2, 3])"
   ],
   "metadata": {
    "collapsed": false,
    "pycharm": {
     "name": "#%%\n"
    }
   }
  },
  {
   "cell_type": "code",
   "execution_count": 134,
   "outputs": [
    {
     "data": {
      "text/plain": "['255.255.11.135', '255.255.111.35']"
     },
     "execution_count": 134,
     "metadata": {},
     "output_type": "execute_result"
    }
   ],
   "source": [
    "def restoreIpAddress(s):\n",
    "    ans = []\n",
    "    def backtrack(path, level, position):\n",
    "\n",
    "        if level == 3:\n",
    "            last = s[position:]\n",
    "            if last and (last == '0' or not last.startswith('0')):\n",
    "                last_int = int(last)\n",
    "                if 0 <= last_int < 256:\n",
    "                    ans.append(path + '.' + last)\n",
    "                return\n",
    "\n",
    "        for i in range(1, 4):\n",
    "            num = s[position: position + i]\n",
    "            if num and (num == '0' or not num.startswith('0')):\n",
    "                num_int = int(num)\n",
    "                if 0<= num_int < 256:\n",
    "                    backtrack(path+'.'+num if path else num, level + 1, position+i)\n",
    "\n",
    "\n",
    "    backtrack('', 0, 0)\n",
    "    return ans\n",
    "\n",
    "restoreIpAddress('25525511135')\n",
    "\n",
    "\n"
   ],
   "metadata": {
    "collapsed": false,
    "pycharm": {
     "name": "#%%\n"
    }
   }
  },
  {
   "cell_type": "code",
   "execution_count": null,
   "outputs": [],
   "source": [
    "def findWords(board, words):\n",
    "    WORD_KEY = '$'\n",
    "\n",
    "    trie = {}\n",
    "    for word in words:\n",
    "        node = trie\n",
    "        for letter in word:\n",
    "            node = node.setdefault(letter, {})\n",
    "        node[WORD_KEY] = word\n",
    "\n",
    "    row_num = len(board)\n",
    "    col_num = len(board[0])\n",
    "\n",
    "    match_words = []\n",
    "\n",
    "    def backtrack(row, col, parent):\n",
    "        letter = board[row][col]\n",
    "        curr_node = parent[l]"
   ],
   "metadata": {
    "collapsed": false,
    "pycharm": {
     "name": "#%%\n"
    }
   }
  },
  {
   "cell_type": "code",
   "execution_count": 16,
   "outputs": [
    {
     "data": {
      "text/plain": "53.333333333333336"
     },
     "execution_count": 16,
     "metadata": {},
     "output_type": "execute_result"
    }
   ],
   "source": [
    "160/3"
   ],
   "metadata": {
    "collapsed": false,
    "pycharm": {
     "name": "#%%\n"
    }
   }
  },
  {
   "cell_type": "code",
   "execution_count": null,
   "outputs": [],
   "source": [
    "class Solution:\n",
    "    def orangesRotting(self, grid):\n",
    "        m, n, queue, fresh = len(grid), len(grid[0]), deque(), 0\n",
    "        for i,j in product(range(m), range(n)):\n",
    "            if grid[i][j] == 2: queue.append((i,j))\n",
    "            if grid[i][j] == 1: fresh += 1\n",
    "        dirs = [[1,0],[-1,0],[0,1],[0,-1]]\n",
    "        levels = 0\n",
    "\n",
    "        while queue:\n",
    "            levels += 1\n",
    "            for _ in range(len(queue)):\n",
    "                x, y = queue.popleft()\n",
    "                for dx, dy in dirs:\n",
    "                    if 0<=x+dx<m and 0<=y+dy<n and grid[x+dx][y+dy] == 1:\n",
    "                        fresh -= 1\n",
    "                        grid[x+dx][y+dy] = 2\n",
    "                        queue.append((x+dx, y+dy))\n",
    "\n",
    "        return -1 if fresh != 0 else max(levels-1, 0)"
   ],
   "metadata": {
    "collapsed": false,
    "pycharm": {
     "name": "#%%\n"
    }
   }
  },
  {
   "cell_type": "code",
   "execution_count": 1,
   "outputs": [
    {
     "data": {
      "text/plain": "[-1, -1, -1]"
     },
     "execution_count": 1,
     "metadata": {},
     "output_type": "execute_result"
    }
   ],
   "source": [
    "[-1]*3"
   ],
   "metadata": {
    "collapsed": false,
    "pycharm": {
     "name": "#%%\n"
    }
   }
  },
  {
   "cell_type": "code",
   "execution_count": null,
   "outputs": [],
   "source": [
    "import collections\n",
    "\n",
    "class Solution:\n",
    "    import collections\n",
    "    def criticalConnections(self, n: int, connections: List[List[int]]) -> List[List[int]]:\n",
    "        dic = collections.defaultdict(set)\n",
    "        for u,v in connections:\n",
    "            dic[u].add(v)\n",
    "            dic[v].add(u)\n",
    "        steps = [-1]*n\n",
    "        res=[]\n",
    "        self.helper(0,-1,0,steps,dic,res)\n",
    "        return res\n",
    "\n",
    "    def helper(self, cur, par, level, steps, dic,res):\n",
    "        steps[cur] = level\n",
    "\n",
    "        for child in dic[cur]:\n",
    "            if child == par:\n",
    "                continue\n",
    "            if steps[child] == -1:\n",
    "                min_step = self.helper(child, cur, level+1, steps, dic, res)\n",
    "                steps[cur] = min( steps[cur], min_step)\n",
    "            else:\n",
    "                steps[cur] = min(steps[child],steps[cur])\n",
    "        if steps[cur] == level and cur !=0:\n",
    "            res.append([cur,par])\n",
    "        return steps[cur]\n"
   ],
   "metadata": {
    "collapsed": false,
    "pycharm": {
     "name": "#%%\n"
    }
   }
  },
  {
   "cell_type": "code",
   "execution_count": null,
   "outputs": [],
   "source": [
    "class Solution:\n",
    "    def criticalConnections(self, n: int, connections: List[List[int]]) -> List[List[int]]:\n",
    "\n",
    "        # TRACK EACH NODE'S RANK AND ITS LOWEST RANK\n",
    "        rank = [None] * n\n",
    "        lowest_rank = [None] * n\n",
    "\n",
    "        # CREATE THE GRAPH\n",
    "        g = self.create_graph(connections)\n",
    "\n",
    "        # DFS FROM NODE 0\n",
    "        critical = []\n",
    "        self.dfs(g, 0, None, set(), rank, lowest_rank, critical)\n",
    "        return critical\n",
    "\n",
    "\n",
    "    def dfs(self, g, curr, parent, vis, rank, lowest_rank, critical):\n",
    "\n",
    "        # BASE CASE - NODE HAS BEEN VISITED\n",
    "        if curr in vis:\n",
    "            return\n",
    "\n",
    "        # ADD TO VISITED\n",
    "        vis.add(curr)\n",
    "\n",
    "        # SET THE NODE'S RANK AND LOWEST RANK BY DEFAULT\n",
    "        rank[curr] = len(vis)\n",
    "        lowest_rank[curr] = len(vis)\n",
    "\n",
    "        # EXPLORE ITS NEIGHBOURS\n",
    "        for nb in g.get(curr, []):\n",
    "\n",
    "            # DO NOT EXPLORE THE NODE YOU CAME FROM\n",
    "            if nb == parent:\n",
    "                continue\n",
    "\n",
    "            # EXPLORE MY NEIGHBOURS\n",
    "            self.dfs(g, nb, curr, vis, rank, lowest_rank, critical)\n",
    "\n",
    "            # UPDATE MY LOWEST RANK\n",
    "            lowest_rank[curr] = min(lowest_rank[curr], lowest_rank[nb])\n",
    "\n",
    "            # CHECK IF CRITICAL\n",
    "            if lowest_rank[nb] > rank[curr]:\n",
    "                critical.append([curr, nb])\n",
    "\n",
    "\n",
    "    def create_graph(self, connections):\n",
    "        g = defaultdict(list)\n",
    "        for c in connections:\n",
    "            g[c[0]].append(c[1])\n",
    "            g[c[1]].append(c[0])\n",
    "        return g"
   ],
   "metadata": {
    "collapsed": false,
    "pycharm": {
     "name": "#%%\n"
    }
   }
  },
  {
   "cell_type": "code",
   "execution_count": 9,
   "outputs": [
    {
     "name": "stdout",
     "output_type": "stream",
     "text": [
      "3\n",
      "4\n"
     ]
    }
   ],
   "source": [
    "import collections\n",
    "graph = collections.defaultdict(list)\n",
    "graph[2].append(3)\n",
    "graph[2].append(4)\n",
    "graph[2]\n",
    "\n",
    "for node in graph[2]:\n",
    "    print(node)"
   ],
   "metadata": {
    "collapsed": false,
    "pycharm": {
     "name": "#%%\n"
    }
   }
  },
  {
   "cell_type": "code",
   "execution_count": 10,
   "outputs": [
    {
     "ename": "NameError",
     "evalue": "name 'List' is not defined",
     "output_type": "error",
     "traceback": [
      "\u001B[1;31m---------------------------------------------------------------------------\u001B[0m",
      "\u001B[1;31mNameError\u001B[0m                                 Traceback (most recent call last)",
      "\u001B[1;32m<ipython-input-10-774b7bff4c85>\u001B[0m in \u001B[0;36m<module>\u001B[1;34m\u001B[0m\n\u001B[1;32m----> 1\u001B[1;33m \u001B[1;32mclass\u001B[0m \u001B[0mSolution\u001B[0m\u001B[1;33m:\u001B[0m\u001B[1;33m\u001B[0m\u001B[1;33m\u001B[0m\u001B[0m\n\u001B[0m\u001B[0;32m      2\u001B[0m     \u001B[1;32mdef\u001B[0m \u001B[0mcriticalConnections\u001B[0m\u001B[1;33m(\u001B[0m\u001B[0mself\u001B[0m\u001B[1;33m,\u001B[0m \u001B[0mn\u001B[0m\u001B[1;33m:\u001B[0m \u001B[0mint\u001B[0m\u001B[1;33m,\u001B[0m \u001B[0mconnections\u001B[0m\u001B[1;33m:\u001B[0m \u001B[0mList\u001B[0m\u001B[1;33m[\u001B[0m\u001B[0mList\u001B[0m\u001B[1;33m[\u001B[0m\u001B[0mint\u001B[0m\u001B[1;33m]\u001B[0m\u001B[1;33m]\u001B[0m\u001B[1;33m)\u001B[0m \u001B[1;33m->\u001B[0m \u001B[0mList\u001B[0m\u001B[1;33m[\u001B[0m\u001B[0mList\u001B[0m\u001B[1;33m[\u001B[0m\u001B[0mint\u001B[0m\u001B[1;33m]\u001B[0m\u001B[1;33m]\u001B[0m\u001B[1;33m:\u001B[0m\u001B[1;33m\u001B[0m\u001B[1;33m\u001B[0m\u001B[0m\n\u001B[0;32m      3\u001B[0m         \u001B[0mrank\u001B[0m \u001B[1;33m=\u001B[0m \u001B[1;33m[\u001B[0m\u001B[1;32mNone\u001B[0m\u001B[1;33m]\u001B[0m \u001B[1;33m*\u001B[0m \u001B[0mn\u001B[0m\u001B[1;33m\u001B[0m\u001B[1;33m\u001B[0m\u001B[0m\n\u001B[0;32m      4\u001B[0m         \u001B[0mlowest_rank\u001B[0m \u001B[1;33m=\u001B[0m \u001B[1;33m[\u001B[0m\u001B[1;32mNone\u001B[0m\u001B[1;33m]\u001B[0m \u001B[1;33m*\u001B[0m \u001B[0mn\u001B[0m\u001B[1;33m\u001B[0m\u001B[1;33m\u001B[0m\u001B[0m\n\u001B[0;32m      5\u001B[0m \u001B[1;33m\u001B[0m\u001B[0m\n",
      "\u001B[1;32m<ipython-input-10-774b7bff4c85>\u001B[0m in \u001B[0;36mSolution\u001B[1;34m()\u001B[0m\n\u001B[0;32m      1\u001B[0m \u001B[1;32mclass\u001B[0m \u001B[0mSolution\u001B[0m\u001B[1;33m:\u001B[0m\u001B[1;33m\u001B[0m\u001B[1;33m\u001B[0m\u001B[0m\n\u001B[1;32m----> 2\u001B[1;33m     \u001B[1;32mdef\u001B[0m \u001B[0mcriticalConnections\u001B[0m\u001B[1;33m(\u001B[0m\u001B[0mself\u001B[0m\u001B[1;33m,\u001B[0m \u001B[0mn\u001B[0m\u001B[1;33m:\u001B[0m \u001B[0mint\u001B[0m\u001B[1;33m,\u001B[0m \u001B[0mconnections\u001B[0m\u001B[1;33m:\u001B[0m \u001B[0mList\u001B[0m\u001B[1;33m[\u001B[0m\u001B[0mList\u001B[0m\u001B[1;33m[\u001B[0m\u001B[0mint\u001B[0m\u001B[1;33m]\u001B[0m\u001B[1;33m]\u001B[0m\u001B[1;33m)\u001B[0m \u001B[1;33m->\u001B[0m \u001B[0mList\u001B[0m\u001B[1;33m[\u001B[0m\u001B[0mList\u001B[0m\u001B[1;33m[\u001B[0m\u001B[0mint\u001B[0m\u001B[1;33m]\u001B[0m\u001B[1;33m]\u001B[0m\u001B[1;33m:\u001B[0m\u001B[1;33m\u001B[0m\u001B[1;33m\u001B[0m\u001B[0m\n\u001B[0m\u001B[0;32m      3\u001B[0m         \u001B[0mrank\u001B[0m \u001B[1;33m=\u001B[0m \u001B[1;33m[\u001B[0m\u001B[1;32mNone\u001B[0m\u001B[1;33m]\u001B[0m \u001B[1;33m*\u001B[0m \u001B[0mn\u001B[0m\u001B[1;33m\u001B[0m\u001B[1;33m\u001B[0m\u001B[0m\n\u001B[0;32m      4\u001B[0m         \u001B[0mlowest_rank\u001B[0m \u001B[1;33m=\u001B[0m \u001B[1;33m[\u001B[0m\u001B[1;32mNone\u001B[0m\u001B[1;33m]\u001B[0m \u001B[1;33m*\u001B[0m \u001B[0mn\u001B[0m\u001B[1;33m\u001B[0m\u001B[1;33m\u001B[0m\u001B[0m\n\u001B[0;32m      5\u001B[0m \u001B[1;33m\u001B[0m\u001B[0m\n",
      "\u001B[1;31mNameError\u001B[0m: name 'List' is not defined"
     ]
    }
   ],
   "source": [
    "class Solution:\n",
    "    def criticalConnections(self, n: int, connections: List[List[int]]) -> List[List[int]]:\n",
    "        rank = [None] * n\n",
    "        lowest_rank = [None] * n\n",
    "\n",
    "        graph = collections.defaultdict(list)\n",
    "        for line in connections:\n",
    "            graph[line[0]].append(line[1])\n",
    "            graph[line[1]].append(line[0])\n",
    "\n",
    "        critical_list = []\n",
    "\n",
    "        self.dfs(graph, 0, None, set(), rank, lowest_rank, critical_list)\n",
    "\n",
    "        return critical_list\n",
    "\n",
    "\n",
    "    def dfs(self, graph, curr, parent, vis, rank, lowest_rank, critical_list):\n",
    "        if curr in vis:\n",
    "            return\n",
    "\n",
    "        vis.add(curr)\n",
    "\n",
    "        rank[curr] = len(vis)\n",
    "        lowest_rank[curr] = len(vis)\n",
    "\n",
    "        for node in graph[curr]:\n",
    "            if node == parent:\n",
    "                continue\n",
    "\n",
    "            self.dfs(graph, node, curr, vis, rank, lowest_rank, critical_list)\n",
    "\n",
    "            lowest_rank[curr] = min(lowest_rank[curr], lowest_rank[node])\n",
    "\n",
    "            if lowest_rank[node] > rank[curr]:\n",
    "                critical_list.append([curr, node])\n",
    "\n",
    "s = Solution()\n",
    "s(4, [[0, 1], [1, 2], [2, 0], [1, 3]])"
   ],
   "metadata": {
    "collapsed": false,
    "pycharm": {
     "name": "#%%\n"
    }
   }
  },
  {
   "cell_type": "code",
   "execution_count": 16,
   "outputs": [
    {
     "data": {
      "text/plain": "['ratcatdogcat', 'catsdogcats', 'dogcatsdog']"
     },
     "execution_count": 16,
     "metadata": {},
     "output_type": "execute_result"
    }
   ],
   "source": [
    "def findwords(words):\n",
    "    ret, s = [], {w for w in words if w} # filter empty word\n",
    "    f = lambda w: not w or any(w[:i+1] in s and f(w[i+1:]) for i in range(len(w), -1, -1))\n",
    "    for w in sorted(s, key=len, reverse=True):\n",
    "        s.discard(w)\n",
    "        if f(w):\n",
    "            ret.append(w)\n",
    "    return ret\n",
    "\n",
    "\n",
    "findwords([\"cat\",\"cats\",\"catsdogcats\",\"dog\",\"dogcatsdog\",\"hippopotamuses\",\"rat\",\"ratcatdogcat\"])"
   ],
   "metadata": {
    "collapsed": false,
    "pycharm": {
     "name": "#%%\n"
    }
   }
  },
  {
   "cell_type": "code",
   "execution_count": null,
   "outputs": [],
   "source": [
    "class Solution:\n",
    "    def findAllConcatenatedWordsInADict(self, words: List[str]) -> List[str]:\n",
    "        words = set(words)\n",
    "        def concat(w):\n",
    "            for i in range(1, len(w)):\n",
    "                prefix, suffix = w[:i], w[i:]\n",
    "                if prefix in words and (suffix in words or concat(suffix)):\n",
    "                    return True\n",
    "            return False\n",
    "        return [w for w in words if concat(w)]\n"
   ],
   "metadata": {
    "collapsed": false,
    "pycharm": {
     "name": "#%%\n"
    }
   }
  }
 ],
 "metadata": {
  "kernelspec": {
   "display_name": "Python 3",
   "language": "python",
   "name": "python3"
  },
  "language_info": {
   "codemirror_mode": {
    "name": "ipython",
    "version": 2
   },
   "file_extension": ".py",
   "mimetype": "text/x-python",
   "name": "python",
   "nbconvert_exporter": "python",
   "pygments_lexer": "ipython2",
   "version": "2.7.6"
  }
 },
 "nbformat": 4,
 "nbformat_minor": 0
}